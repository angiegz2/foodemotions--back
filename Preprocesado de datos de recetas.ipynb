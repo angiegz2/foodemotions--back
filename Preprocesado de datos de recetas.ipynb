{
  "nbformat": 4,
  "nbformat_minor": 0,
  "metadata": {
    "colab": {
      "provenance": []
    },
    "kernelspec": {
      "name": "python3",
      "display_name": "Python 3"
    },
    "language_info": {
      "name": "python"
    }
  },
  "cells": [
    {
      "cell_type": "code",
      "execution_count": null,
      "metadata": {
        "colab": {
          "base_uri": "https://localhost:8080/"
        },
        "id": "UUReTJcDhmMN",
        "outputId": "c21c7b7a-941c-4d28-95aa-fde0d6371ee5"
      },
      "outputs": [
        {
          "output_type": "stream",
          "name": "stdout",
          "text": [
            "Requirement already satisfied: pandas in /usr/local/lib/python3.10/dist-packages (2.2.2)\n",
            "Requirement already satisfied: pymongo in /usr/local/lib/python3.10/dist-packages (4.10.1)\n",
            "Requirement already satisfied: numpy>=1.22.4 in /usr/local/lib/python3.10/dist-packages (from pandas) (1.26.4)\n",
            "Requirement already satisfied: python-dateutil>=2.8.2 in /usr/local/lib/python3.10/dist-packages (from pandas) (2.8.2)\n",
            "Requirement already satisfied: pytz>=2020.1 in /usr/local/lib/python3.10/dist-packages (from pandas) (2024.2)\n",
            "Requirement already satisfied: tzdata>=2022.7 in /usr/local/lib/python3.10/dist-packages (from pandas) (2024.2)\n",
            "Requirement already satisfied: dnspython<3.0.0,>=1.16.0 in /usr/local/lib/python3.10/dist-packages (from pymongo) (2.7.0)\n",
            "Requirement already satisfied: six>=1.5 in /usr/local/lib/python3.10/dist-packages (from python-dateutil>=2.8.2->pandas) (1.16.0)\n",
            "Collecting python-dotenv\n",
            "  Downloading python_dotenv-1.0.1-py3-none-any.whl.metadata (23 kB)\n",
            "Downloading python_dotenv-1.0.1-py3-none-any.whl (19 kB)\n",
            "Installing collected packages: python-dotenv\n",
            "Successfully installed python-dotenv-1.0.1\n"
          ]
        }
      ],
      "source": [
        "!pip install pandas pymongo\n",
        "!pip install python-dotenv\n",
        "\n"
      ]
    },
    {
      "cell_type": "code",
      "source": [
        "from google.colab import files\n",
        "\n",
        "uploaded = files.upload()\n"
      ],
      "metadata": {
        "colab": {
          "base_uri": "https://localhost:8080/",
          "height": 316
        },
        "id": "uQ6vxobHhtvX",
        "outputId": "47f9a38a-f057-44af-d833-d087eb4ca6be"
      },
      "execution_count": null,
      "outputs": [
        {
          "output_type": "display_data",
          "data": {
            "text/plain": [
              "<IPython.core.display.HTML object>"
            ],
            "text/html": [
              "\n",
              "     <input type=\"file\" id=\"files-17e9c001-9f96-44a9-ae06-1844cbbc5aff\" name=\"files[]\" multiple disabled\n",
              "        style=\"border:none\" />\n",
              "     <output id=\"result-17e9c001-9f96-44a9-ae06-1844cbbc5aff\">\n",
              "      Upload widget is only available when the cell has been executed in the\n",
              "      current browser session. Please rerun this cell to enable.\n",
              "      </output>\n",
              "      <script>// Copyright 2017 Google LLC\n",
              "//\n",
              "// Licensed under the Apache License, Version 2.0 (the \"License\");\n",
              "// you may not use this file except in compliance with the License.\n",
              "// You may obtain a copy of the License at\n",
              "//\n",
              "//      http://www.apache.org/licenses/LICENSE-2.0\n",
              "//\n",
              "// Unless required by applicable law or agreed to in writing, software\n",
              "// distributed under the License is distributed on an \"AS IS\" BASIS,\n",
              "// WITHOUT WARRANTIES OR CONDITIONS OF ANY KIND, either express or implied.\n",
              "// See the License for the specific language governing permissions and\n",
              "// limitations under the License.\n",
              "\n",
              "/**\n",
              " * @fileoverview Helpers for google.colab Python module.\n",
              " */\n",
              "(function(scope) {\n",
              "function span(text, styleAttributes = {}) {\n",
              "  const element = document.createElement('span');\n",
              "  element.textContent = text;\n",
              "  for (const key of Object.keys(styleAttributes)) {\n",
              "    element.style[key] = styleAttributes[key];\n",
              "  }\n",
              "  return element;\n",
              "}\n",
              "\n",
              "// Max number of bytes which will be uploaded at a time.\n",
              "const MAX_PAYLOAD_SIZE = 100 * 1024;\n",
              "\n",
              "function _uploadFiles(inputId, outputId) {\n",
              "  const steps = uploadFilesStep(inputId, outputId);\n",
              "  const outputElement = document.getElementById(outputId);\n",
              "  // Cache steps on the outputElement to make it available for the next call\n",
              "  // to uploadFilesContinue from Python.\n",
              "  outputElement.steps = steps;\n",
              "\n",
              "  return _uploadFilesContinue(outputId);\n",
              "}\n",
              "\n",
              "// This is roughly an async generator (not supported in the browser yet),\n",
              "// where there are multiple asynchronous steps and the Python side is going\n",
              "// to poll for completion of each step.\n",
              "// This uses a Promise to block the python side on completion of each step,\n",
              "// then passes the result of the previous step as the input to the next step.\n",
              "function _uploadFilesContinue(outputId) {\n",
              "  const outputElement = document.getElementById(outputId);\n",
              "  const steps = outputElement.steps;\n",
              "\n",
              "  const next = steps.next(outputElement.lastPromiseValue);\n",
              "  return Promise.resolve(next.value.promise).then((value) => {\n",
              "    // Cache the last promise value to make it available to the next\n",
              "    // step of the generator.\n",
              "    outputElement.lastPromiseValue = value;\n",
              "    return next.value.response;\n",
              "  });\n",
              "}\n",
              "\n",
              "/**\n",
              " * Generator function which is called between each async step of the upload\n",
              " * process.\n",
              " * @param {string} inputId Element ID of the input file picker element.\n",
              " * @param {string} outputId Element ID of the output display.\n",
              " * @return {!Iterable<!Object>} Iterable of next steps.\n",
              " */\n",
              "function* uploadFilesStep(inputId, outputId) {\n",
              "  const inputElement = document.getElementById(inputId);\n",
              "  inputElement.disabled = false;\n",
              "\n",
              "  const outputElement = document.getElementById(outputId);\n",
              "  outputElement.innerHTML = '';\n",
              "\n",
              "  const pickedPromise = new Promise((resolve) => {\n",
              "    inputElement.addEventListener('change', (e) => {\n",
              "      resolve(e.target.files);\n",
              "    });\n",
              "  });\n",
              "\n",
              "  const cancel = document.createElement('button');\n",
              "  inputElement.parentElement.appendChild(cancel);\n",
              "  cancel.textContent = 'Cancel upload';\n",
              "  const cancelPromise = new Promise((resolve) => {\n",
              "    cancel.onclick = () => {\n",
              "      resolve(null);\n",
              "    };\n",
              "  });\n",
              "\n",
              "  // Wait for the user to pick the files.\n",
              "  const files = yield {\n",
              "    promise: Promise.race([pickedPromise, cancelPromise]),\n",
              "    response: {\n",
              "      action: 'starting',\n",
              "    }\n",
              "  };\n",
              "\n",
              "  cancel.remove();\n",
              "\n",
              "  // Disable the input element since further picks are not allowed.\n",
              "  inputElement.disabled = true;\n",
              "\n",
              "  if (!files) {\n",
              "    return {\n",
              "      response: {\n",
              "        action: 'complete',\n",
              "      }\n",
              "    };\n",
              "  }\n",
              "\n",
              "  for (const file of files) {\n",
              "    const li = document.createElement('li');\n",
              "    li.append(span(file.name, {fontWeight: 'bold'}));\n",
              "    li.append(span(\n",
              "        `(${file.type || 'n/a'}) - ${file.size} bytes, ` +\n",
              "        `last modified: ${\n",
              "            file.lastModifiedDate ? file.lastModifiedDate.toLocaleDateString() :\n",
              "                                    'n/a'} - `));\n",
              "    const percent = span('0% done');\n",
              "    li.appendChild(percent);\n",
              "\n",
              "    outputElement.appendChild(li);\n",
              "\n",
              "    const fileDataPromise = new Promise((resolve) => {\n",
              "      const reader = new FileReader();\n",
              "      reader.onload = (e) => {\n",
              "        resolve(e.target.result);\n",
              "      };\n",
              "      reader.readAsArrayBuffer(file);\n",
              "    });\n",
              "    // Wait for the data to be ready.\n",
              "    let fileData = yield {\n",
              "      promise: fileDataPromise,\n",
              "      response: {\n",
              "        action: 'continue',\n",
              "      }\n",
              "    };\n",
              "\n",
              "    // Use a chunked sending to avoid message size limits. See b/62115660.\n",
              "    let position = 0;\n",
              "    do {\n",
              "      const length = Math.min(fileData.byteLength - position, MAX_PAYLOAD_SIZE);\n",
              "      const chunk = new Uint8Array(fileData, position, length);\n",
              "      position += length;\n",
              "\n",
              "      const base64 = btoa(String.fromCharCode.apply(null, chunk));\n",
              "      yield {\n",
              "        response: {\n",
              "          action: 'append',\n",
              "          file: file.name,\n",
              "          data: base64,\n",
              "        },\n",
              "      };\n",
              "\n",
              "      let percentDone = fileData.byteLength === 0 ?\n",
              "          100 :\n",
              "          Math.round((position / fileData.byteLength) * 100);\n",
              "      percent.textContent = `${percentDone}% done`;\n",
              "\n",
              "    } while (position < fileData.byteLength);\n",
              "  }\n",
              "\n",
              "  // All done.\n",
              "  yield {\n",
              "    response: {\n",
              "      action: 'complete',\n",
              "    }\n",
              "  };\n",
              "}\n",
              "\n",
              "scope.google = scope.google || {};\n",
              "scope.google.colab = scope.google.colab || {};\n",
              "scope.google.colab._files = {\n",
              "  _uploadFiles,\n",
              "  _uploadFilesContinue,\n",
              "};\n",
              "})(self);\n",
              "</script> "
            ]
          },
          "metadata": {}
        },
        {
          "output_type": "stream",
          "name": "stdout",
          "text": [
            "Saving interactions_train.csv to interactions_train.csv\n",
            "Saving interactions_validation.csv to interactions_validation.csv\n",
            "Saving ingr_map.pkl to ingr_map.pkl\n",
            "Saving interactions_test.csv to interactions_test.csv\n",
            "Saving RAW_recipes.csv to RAW_recipes.csv\n",
            "Saving RAW_interactions.csv to RAW_interactions.csv\n",
            "Saving PP_recipes.csv to PP_recipes.csv\n",
            "Saving PP_users.csv to PP_users.csv\n"
          ]
        }
      ]
    },
    {
      "cell_type": "code",
      "source": [
        "from google.colab import drive\n",
        "\n",
        "# Montar Google Drive\n",
        "drive.mount('/content/drive')\n"
      ],
      "metadata": {
        "colab": {
          "base_uri": "https://localhost:8080/"
        },
        "id": "cGV118UK7VX0",
        "outputId": "bc7356a5-7998-4f35-e144-a180e4eb75ea"
      },
      "execution_count": null,
      "outputs": [
        {
          "output_type": "stream",
          "name": "stdout",
          "text": [
            "Mounted at /content/drive\n"
          ]
        }
      ]
    },
    {
      "cell_type": "code",
      "source": [
        "import pandas as pd\n",
        "\n",
        "# Cargar los archivos CSV en DataFrames\n",
        "recipes = pd.read_csv('RAW_recipes.csv')\n",
        "interactions_train = pd.read_csv('interactions_train.csv')\n",
        "interactions_test = pd.read_csv('interactions_test.csv')\n",
        "interactions_validation = pd.read_csv('interactions_validation.csv')\n"
      ],
      "metadata": {
        "id": "qCGqOjEw7imm"
      },
      "execution_count": null,
      "outputs": []
    },
    {
      "cell_type": "code",
      "source": [
        "print(\"Recipes:\")\n",
        "print(recipes.head())  # Muestra las primeras 5 filas\n",
        "\n",
        "print(\"\\nInteractions Train:\")\n",
        "print(interactions_train.head())\n",
        "\n",
        "print(\"\\nInteractions Test:\")\n",
        "print(interactions_test.head())\n",
        "\n",
        "print(\"\\nInteractions Validation:\")\n",
        "print(interactions_validation.head())\n"
      ],
      "metadata": {
        "colab": {
          "base_uri": "https://localhost:8080/"
        },
        "id": "zIDR_T1U74iS",
        "outputId": "209e6700-88ba-478a-dbb3-02cddf8358c0"
      },
      "execution_count": null,
      "outputs": [
        {
          "output_type": "stream",
          "name": "stdout",
          "text": [
            "Recipes:\n",
            "                                         name      id  minutes  \\\n",
            "0  arriba   baked winter squash mexican style  137739       55   \n",
            "1            a bit different  breakfast pizza   31490       30   \n",
            "2                   all in the kitchen  chili  112140      130   \n",
            "3                          alouette  potatoes   59389       45   \n",
            "4          amish  tomato ketchup  for canning   44061      190   \n",
            "\n",
            "   contributor_id   submitted  \\\n",
            "0           47892  2005-09-16   \n",
            "1           26278  2002-06-17   \n",
            "2          196586  2005-02-25   \n",
            "3           68585  2003-04-14   \n",
            "4           41706  2002-10-25   \n",
            "\n",
            "                                                tags  \\\n",
            "0  ['60-minutes-or-less', 'time-to-make', 'course...   \n",
            "1  ['30-minutes-or-less', 'time-to-make', 'course...   \n",
            "2  ['time-to-make', 'course', 'preparation', 'mai...   \n",
            "3  ['60-minutes-or-less', 'time-to-make', 'course...   \n",
            "4  ['weeknight', 'time-to-make', 'course', 'main-...   \n",
            "\n",
            "                                    nutrition  n_steps  \\\n",
            "0       [51.5, 0.0, 13.0, 0.0, 2.0, 0.0, 4.0]       11   \n",
            "1   [173.4, 18.0, 0.0, 17.0, 22.0, 35.0, 1.0]        9   \n",
            "2  [269.8, 22.0, 32.0, 48.0, 39.0, 27.0, 5.0]        6   \n",
            "3   [368.1, 17.0, 10.0, 2.0, 14.0, 8.0, 20.0]       11   \n",
            "4   [352.9, 1.0, 337.0, 23.0, 3.0, 0.0, 28.0]        5   \n",
            "\n",
            "                                               steps  \\\n",
            "0  ['make a choice and proceed with recipe', 'dep...   \n",
            "1  ['preheat oven to 425 degrees f', 'press dough...   \n",
            "2  ['brown ground beef in large pot', 'add choppe...   \n",
            "3  ['place potatoes in a large pot of lightly sal...   \n",
            "4  ['mix all ingredients& boil for 2 1 / 2 hours ...   \n",
            "\n",
            "                                         description  \\\n",
            "0  autumn is my favorite time of year to cook! th...   \n",
            "1  this recipe calls for the crust to be prebaked...   \n",
            "2  this modified version of 'mom's' chili was a h...   \n",
            "3  this is a super easy, great tasting, make ahea...   \n",
            "4  my dh's amish mother raised him on this recipe...   \n",
            "\n",
            "                                         ingredients  n_ingredients  \n",
            "0  ['winter squash', 'mexican seasoning', 'mixed ...              7  \n",
            "1  ['prepared pizza crust', 'sausage patty', 'egg...              6  \n",
            "2  ['ground beef', 'yellow onions', 'diced tomato...             13  \n",
            "3  ['spreadable cheese with garlic and herbs', 'n...             11  \n",
            "4  ['tomato juice', 'apple cider vinegar', 'sugar...              8  \n",
            "\n",
            "Interactions Train:\n",
            "   user_id  recipe_id        date  rating      u       i\n",
            "0     2046       4684  2000-02-25     5.0  22095   44367\n",
            "1     2046        517  2000-02-25     5.0  22095   87844\n",
            "2     1773       7435  2000-03-13     5.0  24732  138181\n",
            "3     1773        278  2000-03-13     4.0  24732   93054\n",
            "4     2046       3431  2000-04-07     5.0  22095  101723\n",
            "\n",
            "Interactions Test:\n",
            "   user_id  recipe_id        date  rating   u       i\n",
            "0     8937      44551  2005-12-23     4.0   2  173538\n",
            "1    56680     126118  2006-10-07     4.0  16  177847\n",
            "2   349752     219596  2008-04-12     0.0  26   89896\n",
            "3   628951      82783  2007-11-13     2.0  45  172637\n",
            "4    92816     435013  2013-07-31     3.0  52  177935\n",
            "\n",
            "Interactions Validation:\n",
            "   user_id  recipe_id        date  rating   u       i\n",
            "0    76535      33627  2005-02-15     4.0   5  177317\n",
            "1   160497      75307  2005-10-24     4.0  23  170785\n",
            "2   930021     100961  2008-11-30     4.0  31  165555\n",
            "3    58439     154105  2007-03-24     4.0  44  177453\n",
            "4   628951      14525  2008-02-16     5.0  45  142367\n"
          ]
        }
      ]
    },
    {
      "cell_type": "code",
      "source": [
        "import pandas as pd\n",
        "\n",
        "# Cargar los datos\n",
        "recipes = pd.read_csv('RAW_recipes.csv')\n",
        "interactions_train = pd.read_csv('interactions_train.csv')\n",
        "\n",
        "# 1. Verificar duplicados\n",
        "print(\"Duplicados en Recipes:\", recipes.duplicated().sum())\n",
        "print(\"Duplicados en Interactions Train:\", interactions_train.duplicated().sum())\n",
        "\n",
        "# 2. Eliminar duplicados\n",
        "recipes = recipes.drop_duplicates()\n",
        "interactions_train = interactions_train.drop_duplicates()\n",
        "\n",
        "# 3. Manejar valores faltantes\n",
        "print(\"Valores faltantes en Recipes:\", recipes.isnull().sum())\n",
        "print(\"Valores faltantes en Interactions Train:\", interactions_train.isnull().sum())\n",
        "\n",
        "# 4. Llenar o eliminar valores faltantes según sea necesario\n",
        "# Por ejemplo, eliminar filas con valores faltantes en la columna 'name'\n",
        "recipes = recipes.dropna(subset=['name'])\n",
        "\n",
        "# 5. Revisar los tipos de datos\n",
        "print(recipes.dtypes)\n",
        "print(interactions_train.dtypes)\n",
        "\n",
        "# 6. Convertir tipos de datos si es necesario\n",
        "# Ejemplo: convertir 'date' a tipo datetime\n",
        "interactions_train['date'] = pd.to_datetime(interactions_train['date'])\n"
      ],
      "metadata": {
        "colab": {
          "base_uri": "https://localhost:8080/"
        },
        "id": "aN0gB-QI8aO-",
        "outputId": "e871e356-1bad-4bdd-bca7-51beda15d093"
      },
      "execution_count": null,
      "outputs": [
        {
          "output_type": "stream",
          "name": "stdout",
          "text": [
            "Duplicados en Recipes: 0\n",
            "Duplicados en Interactions Train: 0\n",
            "Valores faltantes en Recipes: name                 1\n",
            "id                   0\n",
            "minutes              0\n",
            "contributor_id       0\n",
            "submitted            0\n",
            "tags                 0\n",
            "nutrition            0\n",
            "n_steps              0\n",
            "steps                0\n",
            "description       4979\n",
            "ingredients          0\n",
            "n_ingredients        0\n",
            "dtype: int64\n",
            "Valores faltantes en Interactions Train: user_id      0\n",
            "recipe_id    0\n",
            "date         0\n",
            "rating       0\n",
            "u            0\n",
            "i            0\n",
            "dtype: int64\n",
            "name              object\n",
            "id                 int64\n",
            "minutes            int64\n",
            "contributor_id     int64\n",
            "submitted         object\n",
            "tags              object\n",
            "nutrition         object\n",
            "n_steps            int64\n",
            "steps             object\n",
            "description       object\n",
            "ingredients       object\n",
            "n_ingredients      int64\n",
            "dtype: object\n",
            "user_id        int64\n",
            "recipe_id      int64\n",
            "date          object\n",
            "rating       float64\n",
            "u              int64\n",
            "i              int64\n",
            "dtype: object\n"
          ]
        }
      ]
    },
    {
      "cell_type": "code",
      "source": [
        "recipes['submitted'] = pd.to_datetime(recipes['submitted'], errors='coerce')\n",
        "interactions_train['date'] = pd.to_datetime(interactions_train['date'], errors='coerce')\n"
      ],
      "metadata": {
        "id": "muird1-c9noO"
      },
      "execution_count": null,
      "outputs": []
    },
    {
      "cell_type": "code",
      "source": [
        "import pandas as pd\n",
        "\n",
        "# Supongamos que ya tienes cargados los DataFrames de tus recetas e interacciones\n",
        "recipes = pd.read_csv('RAW_recipes.csv')\n",
        "interactions_train = pd.read_csv('interactions_train.csv')\n",
        "\n",
        "# Prepara los datos de las recetas\n",
        "recipes_dict = recipes.to_dict(orient='records')  # Convierte a lista de diccionarios\n",
        "\n",
        "# Prepara los datos de las interacciones\n",
        "interactions_dict = interactions_train.to_dict(orient='records')  # Convierte a lista de diccionarios\n"
      ],
      "metadata": {
        "id": "5qY0nyOL9Ama"
      },
      "execution_count": null,
      "outputs": []
    },
    {
      "cell_type": "code",
      "source": [
        "from pymongo import MongoClient\n",
        "import os\n",
        "from dotenv import load_dotenv\n",
        "\n",
        "# Cargar variables de entorno\n",
        "load_dotenv()\n",
        "mongodb_uri = os.getenv('MONGODB_URI')\n",
        "\n",
        "# Conectar a la base de datos\n",
        "client = MongoClient(mongodb_uri)\n",
        "db = client['mi_base_de_datos']  # Nombre de la base de datos\n",
        "recipes_collection = db['recipes']  # Nombre de la colección para recetas\n"
      ],
      "metadata": {
        "id": "KY8q059C-NmA"
      },
      "execution_count": null,
      "outputs": []
    },
    {
      "cell_type": "code",
      "source": [
        "import pandas as pd\n",
        "\n",
        "# Cargar los datos\n",
        "recipes = pd.read_csv('RAW_recipes.csv')\n",
        "interactions_train = pd.read_csv('interactions_train.csv')\n",
        "\n",
        "# Ver los primeros registros de cada DataFrame\n",
        "print(\"Recetas:\")\n",
        "print(recipes.head())\n",
        "print(\"\\nInteracciones:\")\n",
        "print(interactions_train.head())\n",
        "\n",
        "# Limpiar los datos de recetas\n",
        "# Manejar valores faltantes\n",
        "recipes['description'].fillna('', inplace=True)  # Reemplazar valores faltantes en 'description' por una cadena vacía\n",
        "\n",
        "# Seleccionar columnas relevantes\n",
        "recipes_cleaned = recipes[['id', 'name', 'description', 'ingredients', 'minutes', 'n_steps', 'steps']]\n",
        "\n",
        "# Renombrar las columnas para la base de datos\n",
        "recipes_cleaned.rename(columns={'id': 'recipe_id', 'name': 'name', 'description': 'description',\n",
        "                                 'ingredients': 'ingredients', 'minutes': 'minutes',\n",
        "                                 'n_steps': 'n_steps', 'steps': 'steps'}, inplace=True)\n",
        "\n",
        "# Limpiar los datos de interacciones\n",
        "# Seleccionar columnas relevantes\n",
        "interactions_cleaned = interactions_train[['user_id', 'recipe_id', 'date', 'rating']]\n",
        "\n",
        "# Guardar los DataFrames limpios en archivos CSV\n",
        "recipes_cleaned.to_csv('cleaned_recipes.csv', index=False)\n",
        "interactions_cleaned.to_csv('cleaned_interactions.csv', index=False)\n",
        "\n",
        "print(\"Datos limpios y guardados en archivos CSV.\")\n"
      ],
      "metadata": {
        "colab": {
          "base_uri": "https://localhost:8080/"
        },
        "id": "Hh6Olx54ARS3",
        "outputId": "30feaf7d-41d7-478e-b689-e78a4c153af0"
      },
      "execution_count": null,
      "outputs": [
        {
          "output_type": "stream",
          "name": "stdout",
          "text": [
            "Recetas:\n",
            "                                         name      id  minutes  \\\n",
            "0  arriba   baked winter squash mexican style  137739       55   \n",
            "1            a bit different  breakfast pizza   31490       30   \n",
            "2                   all in the kitchen  chili  112140      130   \n",
            "3                          alouette  potatoes   59389       45   \n",
            "4          amish  tomato ketchup  for canning   44061      190   \n",
            "\n",
            "   contributor_id   submitted  \\\n",
            "0           47892  2005-09-16   \n",
            "1           26278  2002-06-17   \n",
            "2          196586  2005-02-25   \n",
            "3           68585  2003-04-14   \n",
            "4           41706  2002-10-25   \n",
            "\n",
            "                                                tags  \\\n",
            "0  ['60-minutes-or-less', 'time-to-make', 'course...   \n",
            "1  ['30-minutes-or-less', 'time-to-make', 'course...   \n",
            "2  ['time-to-make', 'course', 'preparation', 'mai...   \n",
            "3  ['60-minutes-or-less', 'time-to-make', 'course...   \n",
            "4  ['weeknight', 'time-to-make', 'course', 'main-...   \n",
            "\n",
            "                                    nutrition  n_steps  \\\n",
            "0       [51.5, 0.0, 13.0, 0.0, 2.0, 0.0, 4.0]       11   \n",
            "1   [173.4, 18.0, 0.0, 17.0, 22.0, 35.0, 1.0]        9   \n",
            "2  [269.8, 22.0, 32.0, 48.0, 39.0, 27.0, 5.0]        6   \n",
            "3   [368.1, 17.0, 10.0, 2.0, 14.0, 8.0, 20.0]       11   \n",
            "4   [352.9, 1.0, 337.0, 23.0, 3.0, 0.0, 28.0]        5   \n",
            "\n",
            "                                               steps  \\\n",
            "0  ['make a choice and proceed with recipe', 'dep...   \n",
            "1  ['preheat oven to 425 degrees f', 'press dough...   \n",
            "2  ['brown ground beef in large pot', 'add choppe...   \n",
            "3  ['place potatoes in a large pot of lightly sal...   \n",
            "4  ['mix all ingredients& boil for 2 1 / 2 hours ...   \n",
            "\n",
            "                                         description  \\\n",
            "0  autumn is my favorite time of year to cook! th...   \n",
            "1  this recipe calls for the crust to be prebaked...   \n",
            "2  this modified version of 'mom's' chili was a h...   \n",
            "3  this is a super easy, great tasting, make ahea...   \n",
            "4  my dh's amish mother raised him on this recipe...   \n",
            "\n",
            "                                         ingredients  n_ingredients  \n",
            "0  ['winter squash', 'mexican seasoning', 'mixed ...              7  \n",
            "1  ['prepared pizza crust', 'sausage patty', 'egg...              6  \n",
            "2  ['ground beef', 'yellow onions', 'diced tomato...             13  \n",
            "3  ['spreadable cheese with garlic and herbs', 'n...             11  \n",
            "4  ['tomato juice', 'apple cider vinegar', 'sugar...              8  \n",
            "\n",
            "Interacciones:\n",
            "   user_id  recipe_id        date  rating      u       i\n",
            "0     2046       4684  2000-02-25     5.0  22095   44367\n",
            "1     2046        517  2000-02-25     5.0  22095   87844\n",
            "2     1773       7435  2000-03-13     5.0  24732  138181\n",
            "3     1773        278  2000-03-13     4.0  24732   93054\n",
            "4     2046       3431  2000-04-07     5.0  22095  101723\n"
          ]
        },
        {
          "output_type": "stream",
          "name": "stderr",
          "text": [
            "<ipython-input-19-3b2d634ace8b>:15: FutureWarning: A value is trying to be set on a copy of a DataFrame or Series through chained assignment using an inplace method.\n",
            "The behavior will change in pandas 3.0. This inplace method will never work because the intermediate object on which we are setting values always behaves as a copy.\n",
            "\n",
            "For example, when doing 'df[col].method(value, inplace=True)', try using 'df.method({col: value}, inplace=True)' or df[col] = df[col].method(value) instead, to perform the operation inplace on the original object.\n",
            "\n",
            "\n",
            "  recipes['description'].fillna('', inplace=True)  # Reemplazar valores faltantes en 'description' por una cadena vacía\n",
            "<ipython-input-19-3b2d634ace8b>:21: SettingWithCopyWarning: \n",
            "A value is trying to be set on a copy of a slice from a DataFrame\n",
            "\n",
            "See the caveats in the documentation: https://pandas.pydata.org/pandas-docs/stable/user_guide/indexing.html#returning-a-view-versus-a-copy\n",
            "  recipes_cleaned.rename(columns={'id': 'recipe_id', 'name': 'name', 'description': 'description',\n"
          ]
        },
        {
          "output_type": "stream",
          "name": "stdout",
          "text": [
            "Datos limpios y guardados en archivos CSV.\n"
          ]
        }
      ]
    },
    {
      "cell_type": "code",
      "source": [
        "from google.colab import files\n",
        "\n",
        "# Descargar los archivos CSV\n",
        "files.download('cleaned_recipes.csv')\n",
        "files.download('cleaned_interactions.csv')\n"
      ],
      "metadata": {
        "colab": {
          "base_uri": "https://localhost:8080/",
          "height": 17
        },
        "id": "1s3RkVhsB2Be",
        "outputId": "065ac1ab-c4bf-4395-c798-8e0a1ae39a92"
      },
      "execution_count": null,
      "outputs": [
        {
          "output_type": "display_data",
          "data": {
            "text/plain": [
              "<IPython.core.display.Javascript object>"
            ],
            "application/javascript": [
              "\n",
              "    async function download(id, filename, size) {\n",
              "      if (!google.colab.kernel.accessAllowed) {\n",
              "        return;\n",
              "      }\n",
              "      const div = document.createElement('div');\n",
              "      const label = document.createElement('label');\n",
              "      label.textContent = `Downloading \"${filename}\": `;\n",
              "      div.appendChild(label);\n",
              "      const progress = document.createElement('progress');\n",
              "      progress.max = size;\n",
              "      div.appendChild(progress);\n",
              "      document.body.appendChild(div);\n",
              "\n",
              "      const buffers = [];\n",
              "      let downloaded = 0;\n",
              "\n",
              "      const channel = await google.colab.kernel.comms.open(id);\n",
              "      // Send a message to notify the kernel that we're ready.\n",
              "      channel.send({})\n",
              "\n",
              "      for await (const message of channel.messages) {\n",
              "        // Send a message to notify the kernel that we're ready.\n",
              "        channel.send({})\n",
              "        if (message.buffers) {\n",
              "          for (const buffer of message.buffers) {\n",
              "            buffers.push(buffer);\n",
              "            downloaded += buffer.byteLength;\n",
              "            progress.value = downloaded;\n",
              "          }\n",
              "        }\n",
              "      }\n",
              "      const blob = new Blob(buffers, {type: 'application/binary'});\n",
              "      const a = document.createElement('a');\n",
              "      a.href = window.URL.createObjectURL(blob);\n",
              "      a.download = filename;\n",
              "      div.appendChild(a);\n",
              "      a.click();\n",
              "      div.remove();\n",
              "    }\n",
              "  "
            ]
          },
          "metadata": {}
        },
        {
          "output_type": "display_data",
          "data": {
            "text/plain": [
              "<IPython.core.display.Javascript object>"
            ],
            "application/javascript": [
              "download(\"download_c49cc4d0-a0c6-4ed6-8b0e-e2c9be61463f\", \"cleaned_recipes.csv\", 219503549)"
            ]
          },
          "metadata": {}
        },
        {
          "output_type": "display_data",
          "data": {
            "text/plain": [
              "<IPython.core.display.Javascript object>"
            ],
            "application/javascript": [
              "\n",
              "    async function download(id, filename, size) {\n",
              "      if (!google.colab.kernel.accessAllowed) {\n",
              "        return;\n",
              "      }\n",
              "      const div = document.createElement('div');\n",
              "      const label = document.createElement('label');\n",
              "      label.textContent = `Downloading \"${filename}\": `;\n",
              "      div.appendChild(label);\n",
              "      const progress = document.createElement('progress');\n",
              "      progress.max = size;\n",
              "      div.appendChild(progress);\n",
              "      document.body.appendChild(div);\n",
              "\n",
              "      const buffers = [];\n",
              "      let downloaded = 0;\n",
              "\n",
              "      const channel = await google.colab.kernel.comms.open(id);\n",
              "      // Send a message to notify the kernel that we're ready.\n",
              "      channel.send({})\n",
              "\n",
              "      for await (const message of channel.messages) {\n",
              "        // Send a message to notify the kernel that we're ready.\n",
              "        channel.send({})\n",
              "        if (message.buffers) {\n",
              "          for (const buffer of message.buffers) {\n",
              "            buffers.push(buffer);\n",
              "            downloaded += buffer.byteLength;\n",
              "            progress.value = downloaded;\n",
              "          }\n",
              "        }\n",
              "      }\n",
              "      const blob = new Blob(buffers, {type: 'application/binary'});\n",
              "      const a = document.createElement('a');\n",
              "      a.href = window.URL.createObjectURL(blob);\n",
              "      a.download = filename;\n",
              "      div.appendChild(a);\n",
              "      a.click();\n",
              "      div.remove();\n",
              "    }\n",
              "  "
            ]
          },
          "metadata": {}
        },
        {
          "output_type": "display_data",
          "data": {
            "text/plain": [
              "<IPython.core.display.Javascript object>"
            ],
            "application/javascript": [
              "download(\"download_5363bf7c-3220-4368-9e16-1cbf16254ea1\", \"cleaned_interactions.csv\", 19824719)"
            ]
          },
          "metadata": {}
        }
      ]
    },
    {
      "cell_type": "code",
      "source": [
        "!pip install pymongo\n",
        "!pip install dnspython\n"
      ],
      "metadata": {
        "colab": {
          "base_uri": "https://localhost:8080/"
        },
        "id": "EzhTOA_nEL5u",
        "outputId": "93da93aa-3eb6-403a-d665-c92c7c78e5f1"
      },
      "execution_count": null,
      "outputs": [
        {
          "output_type": "stream",
          "name": "stdout",
          "text": [
            "Requirement already satisfied: pymongo in /usr/local/lib/python3.10/dist-packages (4.10.1)\n",
            "Requirement already satisfied: dnspython<3.0.0,>=1.16.0 in /usr/local/lib/python3.10/dist-packages (from pymongo) (2.7.0)\n",
            "Requirement already satisfied: dnspython in /usr/local/lib/python3.10/dist-packages (2.7.0)\n"
          ]
        }
      ]
    },
    {
      "cell_type": "code",
      "source": [
        "from pymongo import MongoClient\n",
        "\n",
        "# URI de conexión a MongoDB (modifica según sea necesario)\n",
        "MONGODB_URI = 'mongodb://localhost:27017/mi_base_de_datos'\n",
        "\n",
        "# Crear una conexión al cliente de MongoDB\n",
        "client = MongoClient(MONGODB_URI)\n",
        "\n",
        "# Seleccionar la base de datos\n",
        "db = client['mi_base_de_datos']\n",
        "\n",
        "# Seleccionar la colección de recetas\n",
        "recipes_collection = db['recipes']\n",
        "\n",
        "# Seleccionar la colección de interacciones\n",
        "interactions_collection = db['interactions']\n",
        "\n",
        "# Seleccionar la colección de Users\n",
        "users_collection = db['Users']\n",
        "\n",
        "# Prueba de conexión\n",
        "print(\"Conexión exitosa a MongoDB\")\n"
      ],
      "metadata": {
        "colab": {
          "base_uri": "https://localhost:8080/"
        },
        "id": "_SB8GXa4EO9D",
        "outputId": "5fe8eeb4-f999-49f0-ddf8-c81cb5bc38b4"
      },
      "execution_count": null,
      "outputs": [
        {
          "output_type": "stream",
          "name": "stdout",
          "text": [
            "Conexión exitosa a MongoDB\n"
          ]
        }
      ]
    }
  ]
}